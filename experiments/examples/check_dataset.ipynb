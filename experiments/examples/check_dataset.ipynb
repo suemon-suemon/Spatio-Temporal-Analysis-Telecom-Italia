{
 "cells": [
  {
   "cell_type": "code",
   "id": "e8337345517a908c",
   "metadata": {
    "ExecuteTime": {
     "end_time": "2025-03-11T06:56:41.102432Z",
     "start_time": "2025-03-11T06:56:41.093749Z"
    }
   },
   "source": [
    "import os\n",
    "import h5py\n",
    "\n",
    "data_dir='/data/scratch/jiayin'\n",
    "aggr_time='hour'\n",
    "time_range='all'\n",
    "tele_column='sms2'\n",
    "file_name = \"milan_{}_T_N_5.h5\".format(\n",
    "            'min' if aggr_time is None else aggr_time)\n",
    "filePath = os.path.join(data_dir, file_name)\n",
    "print(filePath)\n",
    "\n",
    "if not os.path.exists(filePath):\n",
    "    raise FileNotFoundError(\"file {} not found\".format(filePath))\n"
   ],
   "outputs": [
    {
     "name": "stdout",
     "output_type": "stream",
     "text": [
      "/data/scratch/jiayin/milan_hour_T_N_5.h5\n"
     ]
    }
   ],
   "execution_count": 14
  },
  {
   "metadata": {
    "collapsed": true,
    "ExecuteTime": {
     "end_time": "2025-03-11T06:58:39.272820Z",
     "start_time": "2025-03-11T06:58:39.036893Z"
    }
   },
   "cell_type": "code",
   "source": [
    "# 虽然\n",
    "import pandas as pd\n",
    "with h5py.File(filePath, 'r') as f:\n",
    "    print(\"Keys in HDF5 file:\", list(f.keys()))\n",
    "    # 读取数据集\n",
    "    data = f['data'][:]\n",
    "    time_data = f['time'][:]\n",
    "    # 如果时间数据是字节类型，需要解码\n",
    "    time_data = [t.decode('utf-8') if isinstance(t, bytes) else t for t in time_data]\n",
    "\n",
    "print('data shape: ', data.shape)\n",
    "# 将时间数据转换为 pandas 的 DatetimeIndex\n",
    "times = pd.to_datetime(time_data, format='%Y-%m-%d %H:%M:%S')\n",
    "print(\"Total unique timestamps:\", times.nunique())\n",
    "\n",
    "# 如果你想检查是否是一天一天排列，可以计算相邻日期之间的日期部分的差值\n",
    "# 先提取日期部分\n",
    "dates = times.normalize()  # 将时间归一化到午夜\n",
    "diff = dates.to_series().diff().dropna()\n",
    "\n",
    "# 查看所有不同的日期差值\n",
    "print(\"Unique date differences:\", diff.unique())\n",
    "\n",
    "# 统计每种差值出现的次数\n",
    "diff_counts = diff.value_counts().sort_index()\n",
    "print(\"\\nDate differences counts:\")\n",
    "for delta, count in diff_counts.items():\n",
    "    print(f\"{delta}: {count} times\")"
   ],
   "id": "initial_id",
   "outputs": [
    {
     "name": "stdout",
     "output_type": "stream",
     "text": [
      "Keys in HDF5 file: ['data', 'time']\n",
      "data shape:  (1416, 10000, 5)\n",
      "Total unique timestamps: 1416\n",
      "Unique date differences: [86400000000000              0]\n",
      "\n",
      "Date differences counts:\n",
      "0 days 00:00:00: 1353 times\n",
      "1 days 00:00:00: 62 times\n"
     ]
    }
   ],
   "execution_count": 16
  },
  {
   "metadata": {},
   "cell_type": "code",
   "source": [
    "# 检查时间间隔是否连续\n",
    "import pandas as pd\n",
    "with h5py.File(filePath, 'r') as f:\n",
    "    # 假设 time 数据集存储的是字符串或字节型时间戳\n",
    "    time_data = f['time'][:]  # 读取全部数据\n",
    "\n",
    "# 如果时间数据以字节形式存储，需要先解码（假设是UTF-8编码）\n",
    "time_data = [t.decode('utf-8') if isinstance(t, bytes) else t for t in time_data]\n",
    "\n",
    "# 将时间数据转换为 pandas datetime 对象\n",
    "times = pd.to_datetime(time_data, format='%Y-%m-%d %H:%M:%S')\n",
    "\n",
    "# 将 DatetimeIndex 转换为 Series 并计算相邻时间差（Timedelta）\n",
    "time_series = times.to_series()\n",
    "time_diff = time_series.diff().dropna()\n",
    "\n",
    "# 使用 value_counts 统计每个时间差出现的次数\n",
    "diff_counts = time_diff.value_counts().sort_index()\n",
    "print(\"\\n各连续时间间隔及其出现次数：\")\n",
    "for td, count in diff_counts.items():\n",
    "    # td 是 Timedelta 对象，直接转换为字符串即可获得易读格式\n",
    "    print(f\"{str(td)} : {count} 次\")\n",
    "\n",
    "# 定义要查找的时间间隔\n",
    "gap = pd.Timedelta(\"1 days 00:10:00\")\n",
    "\n",
    "# 筛选出那些间隔等于 gap 的位置\n",
    "gap_positions = time_diff[time_diff == gap]\n",
    "\n",
    "print(\"出现 1 days 00:10:00 的时间间隔的位置和对应的时间戳：\")\n",
    "for idx, gap_value in gap_positions.items():\n",
    "    # idx 对应当前时间戳，前一个时间戳为 time_series.loc[idx] 的前一行\n",
    "    # 使用索引的 .shift() 或直接利用 index 获取前一个值：\n",
    "    prev_idx = time_series.index.get_loc(idx) - 1\n",
    "    if prev_idx >= 0:\n",
    "        prev_time = time_series.iloc[prev_idx]\n",
    "    else:\n",
    "        prev_time = None\n",
    "    print(f\"Gap from {prev_time} to {idx} (间隔: {gap_value})\")"
   ],
   "id": "baa153c50234d0dc",
   "outputs": [],
   "execution_count": null
  },
  {
   "metadata": {},
   "cell_type": "code",
   "source": [
    "# 检查初始csv，时间间隔最小是10min\n",
    "# 文件名对应的时间是混乱的，但是最后的h5文件的时间是正确排列的，还好\n",
    "\n",
    "data_dir='/data/scratch/jiayin'\n",
    "file_name = 'sms-call-internet-mi-2013-11-18.csv'\n",
    "path = os.path.join(data_dir, file_name)\n",
    "data = pd.read_csv(path, header=0, index_col=0)\n",
    "data.reset_index(inplace=True)  # 重置索引，将 'cellid' 恢复为普通列\n",
    "data['time'] = pd.to_datetime(data['time'], unit='ms')  # 原时间格式为ms\n",
    "print(data[10:15])"
   ],
   "id": "107ecaa433d799ea",
   "outputs": [],
   "execution_count": null
  },
  {
   "metadata": {},
   "cell_type": "code",
   "source": [
    "import matplotlib.pyplot as plt\n",
    "# 国家代码列表示这个电话/短信发生的国家。从统计结果看，最多的国家代码是 39（意大利），其次是 0（可能表示国内或未记录国家信息），再是 33（法国）、49（德国）和 46（瑞典）。似乎没有提供什么信息，故舍弃了。\n",
    "\n",
    "# 统计各 countrycode 的频次\n",
    "counts = data['countrycode'].value_counts()\n",
    "# 输出频次最高的 countrycode 和出现次数\n",
    "print(\"出现最多的 countrycode：\")\n",
    "print(counts.head(5))\n",
    "\n",
    "# 设置图形大小\n",
    "plt.figure(figsize=(12, 6))\n",
    "# 绘制柱状图\n",
    "counts.plot(kind='bar')\n",
    "\n",
    "plt.xlabel(\"Country Code\")\n",
    "plt.ylabel(\"Frequency\")\n",
    "plt.title(\"Frequency of Each Country Code\")\n",
    "plt.tight_layout()\n",
    "plt.show()"
   ],
   "id": "1920730d5fc49b2c",
   "outputs": [],
   "execution_count": null
  },
  {
   "metadata": {},
   "cell_type": "code",
   "outputs": [],
   "execution_count": null,
   "source": "",
   "id": "21054272a89d0e20"
  }
 ],
 "metadata": {
  "kernelspec": {
   "display_name": "Python 3",
   "language": "python",
   "name": "python3"
  },
  "language_info": {
   "codemirror_mode": {
    "name": "ipython",
    "version": 2
   },
   "file_extension": ".py",
   "mimetype": "text/x-python",
   "name": "python",
   "nbconvert_exporter": "python",
   "pygments_lexer": "ipython2",
   "version": "2.7.6"
  }
 },
 "nbformat": 4,
 "nbformat_minor": 5
}
