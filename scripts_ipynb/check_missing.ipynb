{
 "cells": [
  {
   "cell_type": "code",
   "id": "initial_id",
   "metadata": {
    "collapsed": true,
    "ExecuteTime": {
     "end_time": "2025-05-09T04:25:21.789553Z",
     "start_time": "2025-05-09T04:25:14.695925Z"
    }
   },
   "source": [
    "from datasets.Milan import MilanDataset\n",
    "\n",
    "milan = MilanDataset(format = 'completion',\n",
    "              aggr_time='10min',\n",
    "              time_range='all',\n",
    "              load_spatial_feature=True,\n",
    "              load_time_feature=True,\n",
    "              batch_size=32,\n",
    "              close_len=60,\n",
    "              missing_ratio= 0.4,\n",
    "              period_len=0,\n",
    "              trend_len=0,\n",
    "              pred_len=4)\n",
    "# milan.download_data()\n",
    "milan.prepare_data()\n",
    "milan.setup()\n",
    "\n",
    "train_dl = milan.train_dataloader()\n",
    "val_dl = milan.val_dataloader()\n",
    "test_dl = milan.test_dataloader()\n",
    "\n",
    "print(\"Number of batches in train_dataloader:\", len(train_dl))\n",
    "print(\"Number of batches in val_dataloader:\", len(val_dl))\n",
    "print(\"Number of batches in test_dataloader:\", len(test_dl))\n",
    "\n",
    "# 获取一个 batch，查看 X 和 Y 的维度\n",
    "batch = next(iter(test_dl))\n",
    "\n",
    "# 这里假设 _get_dataset 返回的数据结构为 (X, Y)\n",
    "X, mask, Y = batch\n",
    "\n",
    "print(\"Batch X shape:\", X.shape)\n",
    "print('Batch mask shape:', mask.shape)\n",
    "print(\"Batch Y shape:\", Y.shape)\n",
    "\n",
    "print(\"Sum of all elements in mask:\", mask.sum())"
   ],
   "outputs": [
    {
     "name": "stderr",
     "output_type": "stream",
     "text": [
      "2025-05-09 12:25:17.555865: I tensorflow/core/util/port.cc:110] oneDNN custom operations are on. You may see slightly different numerical results due to floating-point round-off errors from different computation orders. To turn them off, set the environment variable `TF_ENABLE_ONEDNN_OPTS=0`.\n",
      "2025-05-09 12:25:17.557586: I tensorflow/tsl/cuda/cudart_stub.cc:28] Could not find cuda drivers on your machine, GPU will not be used.\n",
      "2025-05-09 12:25:17.590776: I tensorflow/core/platform/cpu_feature_guard.cc:182] This TensorFlow binary is optimized to use available CPU instructions in performance-critical operations.\n",
      "To enable the following instructions: AVX2 AVX512F AVX512_VNNI FMA, in other operations, rebuild TensorFlow with the appropriate compiler flags.\n",
      "2025-05-09 12:25:18.190465: W tensorflow/compiler/tf2tensorrt/utils/py_utils.cc:38] TF-TRT Warning: Could not find TensorRT\n"
     ]
    },
    {
     "name": "stdout",
     "output_type": "stream",
     "text": [
      "H5 file already exists at /data/scratch/jiayin/milan/milan_10min_T_N_5.h5\n",
      "Meta file cell_feature.csv exists.\n",
      "Loaded complete data shape: (7488, 1, 20, 20)\n",
      "Number of batches in train_dataloader: 186\n",
      "Number of batches in val_dataloader: 24\n",
      "Number of batches in test_dataloader: 24\n",
      "Batch X shape: torch.Size([32, 400, 60, 1])\n",
      "Batch mask shape: torch.Size([32, 400, 60, 1])\n",
      "Batch Y shape: torch.Size([32, 400, 60, 1])\n",
      "Sum of all elements in mask: tensor(461711)\n"
     ]
    }
   ],
   "execution_count": 1
  },
  {
   "metadata": {
    "ExecuteTime": {
     "end_time": "2025-05-09T04:25:21.919528Z",
     "start_time": "2025-05-09T04:25:21.796357Z"
    }
   },
   "cell_type": "code",
   "source": [
    "from datasets.Taiwan import TaiwanDataset\n",
    "taiwan = TaiwanDataset(format = 'completion',\n",
    "              aggr_time='10min',\n",
    "              time_range='all',\n",
    "              load_spatial_feature=True,\n",
    "              load_time_feature=True,\n",
    "              batch_size=32,\n",
    "              close_len=60,\n",
    "              missing_ratio= 0.4,\n",
    "              period_len=0,\n",
    "              trend_len=0,\n",
    "              pred_len=4)\n",
    "# milan.download_data()\n",
    "taiwan.prepare_data()\n",
    "taiwan.setup()\n",
    "\n",
    "train_dl = taiwan.train_dataloader()\n",
    "val_dl = taiwan.val_dataloader()\n",
    "test_dl = taiwan.test_dataloader()\n",
    "\n",
    "print(\"Number of batches in train_dataloader:\", len(train_dl))\n",
    "print(\"Number of batches in val_dataloader:\", len(val_dl))\n",
    "print(\"Number of batches in test_dataloader:\", len(test_dl))\n",
    "\n",
    "# 获取一个 batch，查看 X 和 Y 的维度\n",
    "batch = next(iter(test_dl))\n",
    "\n",
    "# 这里假设 _get_dataset 返回的数据结构为 (X, Y)\n",
    "X, mask, Y = batch\n",
    "\n",
    "print(\"Batch X shape:\", X.shape)\n",
    "print('Batch mask shape:', mask.shape)\n",
    "print(\"Batch Y shape:\", Y.shape)\n",
    "print(\"Sum of all elements in mask:\", mask.sum())\n"
   ],
   "id": "4b71edd66ecbed04",
   "outputs": [
    {
     "name": "stdout",
     "output_type": "stream",
     "text": [
      "H5 file already exists at /data/scratch/jiayin/taiwan/taiwan_10min_T_N_3.h5\n",
      "Loaded complete data shape: (4465, 1, 3, 7)\n",
      "Number of batches in train_dataloader: 110\n",
      "Number of batches in val_dataloader: 14\n",
      "Number of batches in test_dataloader: 14\n",
      "Batch X shape: torch.Size([32, 21, 60, 1])\n",
      "Batch mask shape: torch.Size([32, 21, 60, 1])\n",
      "Batch Y shape: torch.Size([32, 21, 60, 1])\n",
      "Sum of all elements in mask: tensor(24255)\n"
     ]
    }
   ],
   "execution_count": 2
  }
 ],
 "metadata": {
  "kernelspec": {
   "display_name": "Python 3",
   "language": "python",
   "name": "python3"
  },
  "language_info": {
   "codemirror_mode": {
    "name": "ipython",
    "version": 2
   },
   "file_extension": ".py",
   "mimetype": "text/x-python",
   "name": "python",
   "nbconvert_exporter": "python",
   "pygments_lexer": "ipython2",
   "version": "2.7.6"
  }
 },
 "nbformat": 4,
 "nbformat_minor": 5
}
