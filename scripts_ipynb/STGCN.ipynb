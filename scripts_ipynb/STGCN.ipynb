{
 "cells": [
  {
   "metadata": {
    "ExecuteTime": {
     "end_time": "2025-04-01T08:19:18.466648Z",
     "start_time": "2025-04-01T08:19:18.414850Z"
    }
   },
   "cell_type": "code",
   "source": [
    "# 查看模型\n",
    "from models.Stgcn import *\n",
    "import networkx as nx\n",
    "import numpy as np\n",
    "from networkx import adjacency_matrix\n",
    "from networkx.generators import grid_2d_graph, empty_graph\n",
    "import matplotlib.pyplot as plt\n",
    "\n",
    "adj_mx = adjacency_matrix(grid_2d_graph(20, 20))\n",
    "L_tilde = scaled_Laplacian(adj_mx)\n",
    "\n",
    "all_backbones = [\n",
    "    {'K': 3, 'nb_chev_filter': 64, 'nb_time_filter': 64, 'in_len': 6, 'time_strides': 1},  # recent\n",
    "    # {'K': 3, 'nb_chev_filter': 64, 'nb_time_filter': 64, 'in_len': p['period_len'], 'time_strides': 1},  # daily\n",
    "    # {'K': 3, 'nb_chev_filter': 64, 'nb_time_filter': 64, 'in_len': p['trend_len'], 'time_strides': 1}, # weekend\n",
    "]\n",
    "\n",
    "astgcn = ASTGCN(all_backbones, adj_mx, in_len=6, pred_len=6)\n",
    "# dummy_input = torch.rand(32, 400, 1, 6) # [batch_size, N, F_in, T]\n",
    "# out = astgcn(dummy_input)\n",
    "\n",
    "print(astgcn)"
   ],
   "id": "927555f88f42df53",
   "outputs": [
    {
     "name": "stdout",
     "output_type": "stream",
     "text": [
      "ASTGCN(\n",
      "  (criterion): L1Loss()\n",
      "  (valid_MAE): MeanAbsoluteError()\n",
      "  (valid_MAPE): MeanAbsolutePercentageError()\n",
      "  (valid_SMAPE): SymmetricMeanAbsolutePercentageError()\n",
      "  (valid_R2): R2Score()\n",
      "  (valid_RMSE): MeanSquaredError()\n",
      "  (test_MAE): MeanAbsoluteError()\n",
      "  (test_MAPE): MeanAbsolutePercentageError()\n",
      "  (test_SMAPE): SymmetricMeanAbsolutePercentageError()\n",
      "  (test_R2): R2Score()\n",
      "  (test_MSE): MeanSquaredError()\n",
      "  (submodules): ModuleList(\n",
      "    (0): ASTGCN_submodule(\n",
      "      (BlockList): ModuleList(\n",
      "        (0): ASTGCN_block(\n",
      "          (TAt): Temporal_Attention_layer()\n",
      "          (SAt): Spatial_Attention_layer()\n",
      "          (cheb_conv_SAt): cheb_conv_withSAt(\n",
      "            (Theta): ParameterList(\n",
      "                (0): Parameter containing: [torch.float32 of size 1x64]\n",
      "                (1): Parameter containing: [torch.float32 of size 1x64]\n",
      "                (2): Parameter containing: [torch.float32 of size 1x64]\n",
      "            )\n",
      "          )\n",
      "          (time_conv): Conv2d(64, 64, kernel_size=(1, 3), stride=(1, 1), padding=(0, 1))\n",
      "          (residual_conv): Conv2d(1, 64, kernel_size=(1, 1), stride=(1, 1))\n",
      "          (ln): LayerNorm((64,), eps=1e-05, elementwise_affine=True)\n",
      "        )\n",
      "      )\n",
      "      (final_conv): Conv2d(6, 6, kernel_size=(1, 64), stride=(1, 1))\n",
      "    )\n",
      "  )\n",
      ")\n"
     ]
    }
   ],
   "execution_count": 4
  },
  {
   "metadata": {},
   "cell_type": "markdown",
   "source": [
    "#### 真正有效的模块\n",
    "\n",
    "Input 0 shape=torch.Size([32, 400, 1, 128])\n",
    "\n",
    "Training started: y.shape=torch.Size([32, 32, 1, 20, 20])\n",
    "\n",
    "(b, N, F_in, T) # 对(N, F_in)维度做图滤波，通过相邻节点特征聚合，将节点特征F维度由1扩展为64\n",
    "\n",
    "(ChebConv): ChebConv((Theta))\n",
    "\n",
    "=> (b, N, F_out, T) # 对(N,T)维度做卷积，核(1,3)，因此实际上仅对T维度做了卷积\n",
    "\n",
    "(time_conv): Conv2d(64, 64, kernel_size=(1, 3), stride=(1, 1), padding=(0, 1))\n",
    "\n",
    "=> (b, N, F_out, T) # 残差连接，为匹配维度加了个卷积，把节点特征维度特扩展到了64。对性能影响不大。\n",
    "\n",
    "(residual_conv): Conv2d(1, 64, kernel_size=(1, 1), stride=(1, 1))\n",
    "\n",
    "=> (b, N, F_out, T) # 对F_out维度做层归一化\n",
    "\n",
    "(ln): LayerNorm((64,), eps=1e-05, elementwise_affine=True)\n",
    "\n",
    "=> (b, T, N, F_in) # 对(N,F_in)做卷积，核(1,64)，实际上仅对F维度做卷积，用64的核把F_out(64)恢复为F_in(1)。时间维度作为独立通道。\n",
    "\n",
    "(final_conv): Conv2d(6, 6, kernel_size=(1, 64), stride=(1, 1))\n",
    "\n",
    "\n",
    "\n"
   ],
   "id": "cc82610f97dd7293"
  },
  {
   "metadata": {
    "ExecuteTime": {
     "end_time": "2025-04-01T08:14:45.474749Z",
     "start_time": "2025-04-01T08:14:40.765891Z"
    }
   },
   "cell_type": "code",
   "source": [
    "# 查看维度\n",
    "from models.Stgcn import *\n",
    "import networkx as nx\n",
    "import numpy as np\n",
    "torch.manual_seed(42)\n",
    "\n",
    "G = nx.grid_2d_graph(20, 20) # 用的是网格图，k_average = 3.8\n",
    "adj_mx = nx.adjacency_matrix(G)\n",
    "L_norm = scaled_Laplacian(adj_mx)\n",
    "spatial_At = torch.ones(32, 400, 400)\n",
    "\n",
    "chevGF = cheb_conv_withSAt(K=3, in_channels=1, out_channels=64, L_tilde = L_norm)\n",
    "dummy_input = torch.rand(32,400,1,128) # b,N,F_in,T\n",
    "out = chevGF(dummy_input, spatial_At) # b,N,F_out,T\n",
    "\n",
    "print(chevGF)\n",
    "\n",
    "# 循环：5s\n",
    "# Mean of out: inf\n",
    "# Standard Deviation of out: inf\n",
    "# First 10 elements of out: tensor([0.0000e+00, 0.0000e+00, 1.6681e-26, 0.0000e+00, 0.0000e+00, 4.1931e-27,\n",
    "#         5.8752e-27, 0.0000e+00, 0.0000e+00, 4.6099e-27],\n",
    "#        grad_fn=<SliceBackward0>)\n",
    "\n"
   ],
   "id": "764051329bf1f794",
   "outputs": [
    {
     "name": "stdout",
     "output_type": "stream",
     "text": [
      "cheb_conv_withSAt(\n",
      "  (Theta): ParameterList(\n",
      "      (0): Parameter containing: [torch.float32 of size 1x64]\n",
      "      (1): Parameter containing: [torch.float32 of size 1x64]\n",
      "      (2): Parameter containing: [torch.float32 of size 1x64]\n",
      "  )\n",
      ")\n"
     ]
    }
   ],
   "execution_count": 1
  },
  {
   "metadata": {},
   "cell_type": "code",
   "outputs": [],
   "execution_count": null,
   "source": [
    "# 试图用 tensorboard 可视化模型结构/维度，没成功\n",
    "from models.Stgcn import *\n",
    "import networkx as nx\n",
    "import torch\n",
    "from networkx import adjacency_matrix\n",
    "from networkx.generators import grid_2d_graph\n",
    "import matplotlib.pyplot as plt\n",
    "from torch.utils.tensorboard import SummaryWriter\n",
    "from tensorboard import notebook\n",
    "\n",
    "%load_ext tensorboard\n",
    "\n",
    "# 创建 SummaryWriter 实例\n",
    "writer = SummaryWriter(log_dir='./my_tensorboard_logs')\n",
    "\n",
    "adj_mx = adjacency_matrix(grid_2d_graph(20, 20))\n",
    "\n",
    "L_tilde = scaled_Laplacian(adj_mx)\n",
    "\n",
    "astgcn_block = ASTGCN_block(L_tilde, in_channels=1, K=3, nb_chev_filter=64, nb_time_filter=64, time_strides=1, num_of_vertices=400, num_of_timesteps=5)\n",
    "dummy_input = torch.rand(32, 400, 1, 5) # [batch_size, N, F_in, T]\n",
    "out = astgcn_block(dummy_input)\n",
    "\n",
    "%tensorboard --logdir=./my_tensorboard_logs --port=6008\n",
    "\n",
    "# 将模型结构写入 TensorBoard\n",
    "writer.add_graph(astgcn_block, dummy_input)\n",
    "notebook.list() # View open TensorBoard instances\n",
    "notebook.display(port=6008)\n",
    "\n",
    "# 关闭 writer\n",
    "writer.close()"
   ],
   "id": "a102e7ef74c95a75"
  }
 ],
 "metadata": {
  "kernelspec": {
   "display_name": "Python 3",
   "language": "python",
   "name": "python3"
  },
  "language_info": {
   "codemirror_mode": {
    "name": "ipython",
    "version": 2
   },
   "file_extension": ".py",
   "mimetype": "text/x-python",
   "name": "python",
   "nbconvert_exporter": "python",
   "pygments_lexer": "ipython2",
   "version": "2.7.6"
  }
 },
 "nbformat": 4,
 "nbformat_minor": 5
}
