{
 "cells": [
  {
   "metadata": {},
   "cell_type": "markdown",
   "source": "# SCOPE",
   "id": "9ad1d3d9dc9614d2"
  },
  {
   "metadata": {},
   "cell_type": "code",
   "source": [
    "# 加载scope模型\n",
    "import os\n",
    "import numpy as np\n",
    "\n",
    "im_res_path = '/home/jiayin/PycharmProjects/Spatio-Temporal-Analysis-Telecom-Italia/experiments/experiments/results'\n",
    "run_id = 'SCOPE_sms_downsam1_512_64_03222040'\n",
    "\n",
    "file_name_C_before = 'corr_before.npy'\n",
    "file_name_C_after = 'corr_after.npy'\n",
    "file_name_D_learned = 'D_learned.npy'\n",
    "\n",
    "CorrBefore = np.load(os.path.join(im_res_path, run_id, file_name_C_before))\n",
    "CorrAfter = np.load(os.path.join(im_res_path, run_id, file_name_C_after))\n",
    "D_learned = np.load(os.path.join(im_res_path, run_id, file_name_D_learned))\n",
    "\n",
    "print(\"CorrBefore shape: \", CorrBefore.shape)\n",
    "print(\"CorrAfter shape: \", CorrAfter.shape)\n",
    "print(\"D_learned shape: \", D_learned.shape) # num_patterns, pred_len + seq_len/M"
   ],
   "id": "ea248db441e8e213",
   "outputs": [],
   "execution_count": null
  },
  {
   "metadata": {},
   "cell_type": "code",
   "source": [
    "# 画D\n",
    "import matplotlib.pyplot as plt\n",
    "\n",
    "fig_C, axes = plt.subplots(nrows=3, ncols=2, figsize=(12, 9))\n",
    "rows_to_plot = [0, 0, 0]  # 需要绘制的行索引\n",
    "for i, row in enumerate(rows_to_plot):\n",
    "    # 绘制 CorrBefore\n",
    "    axes[i, 0].plot(CorrBefore[0, 0, 0, :, row].real, label=f'CorrBefore Row {row}', marker='o', linestyle='None')\n",
    "    # 添加竖直线\n",
    "    for j, val in enumerate(CorrBefore[0, 0, 0, :, row].real):\n",
    "        axes[i, 0].vlines(j, 0, val, color='b', alpha=0.5)  # 竖直线\n",
    "    axes[i, 0].grid(True)\n",
    "    axes[i, 0].set_title(f'CorrBefore - Row {row}')\n",
    "    axes[i, 0].legend()\n",
    "\n",
    "    # 绘制 CorrAfter\n",
    "    axes[i, 1].plot(CorrAfter[0, 0, 0, :, row].real, label=f'CorrAfter Row {row}', marker='o',linestyle='None', color='g')\n",
    "    # 添加竖直线\n",
    "    for j, val in enumerate(CorrAfter[0, 0, 0, :, row].real):\n",
    "        axes[i, 1].vlines(j, 0, val, color='g', alpha=0.5)  # 竖直线\n",
    "    axes[i, 1].grid(True)\n",
    "    axes[i, 1].set_title(f'CorrAfter - Row {row}')\n",
    "    axes[i, 1].legend()\n",
    "\n",
    "plt.tight_layout()\n",
    "imag_name = \"C_before_after_.png\"\n",
    "fig.savefig(os.path.join(im_res_path, run_id, imag_name), format='png')"
   ],
   "id": "8a92fd83816bc166",
   "outputs": [],
   "execution_count": null
  },
  {
   "metadata": {},
   "cell_type": "code",
   "source": [
    "from datasets import MilanFG, MilanSW\n",
    "from models.SCOPE import SCOPE\n",
    "import matplotlib.pyplot as plt\n",
    "\n",
    "# model = SCOPE.load_from_checkpoint(\"/home/jiayin/PycharmProjects/Spatio-Temporal-Analysis-Telecom-Italia/experiments/lightning_logs/SCOPE_sms_downsam4_03221638/checkpoints/epoch=999-step=26000.ckpt\")\n",
    "# D_learned = model.pattern_dict.weight.detach().cpu().numpy()\n",
    "\n",
    "# 创建 3 行 2 列的子图\n",
    "fig, axes = plt.subplots(nrows=3, ncols=2, figsize=(12, 9))\n",
    "rows_to_plot = [0,5,15]\n",
    "for i, row in enumerate(rows_to_plot):\n",
    "    # 获取时序数据\n",
    "    time_series = D_learned[row, 1:128].real\n",
    "\n",
    "    # 计算 FFT 变换\n",
    "    fft_values = np.fft.fft(time_series)  # 计算 FFT\n",
    "    fft_magnitudes = np.abs(fft_values)  # 计算振幅\n",
    "    fft_frequencies = np.fft.fftfreq(len(time_series))  # 计算频率轴\n",
    "\n",
    "    # 画时序信号（左列）\n",
    "    axes[i, 0].plot(time_series, label=f'D Row {row}')\n",
    "    axes[i, 0].grid(True)\n",
    "    axes[i, 0].set_title(f'Time Series - Row {row}')\n",
    "    axes[i, 0].legend()\n",
    "\n",
    "    # 画频域信号（右列）\n",
    "    axes[i, 1].plot(fft_frequencies[:len(fft_frequencies)//2], fft_magnitudes[:len(fft_magnitudes)//2], label=f'FFT Row {row}')\n",
    "    axes[i, 1].grid(True)\n",
    "    axes[i, 1].set_title(f'FFT - Row {row}')\n",
    "    axes[i, 1].legend()\n",
    "\n",
    "plt.tight_layout()\n",
    "plt.show()\n",
    "\n",
    "imag_name = \"D_time_freq_.png\"\n",
    "# fig.savefig(os.path.join(im_res_path, run_id, imag_name), format='png')"
   ],
   "id": "5d1203ae818e2598",
   "outputs": [],
   "execution_count": null
  }
 ],
 "metadata": {
  "kernelspec": {
   "display_name": "Python 3",
   "language": "python",
   "name": "python3"
  },
  "language_info": {
   "codemirror_mode": {
    "name": "ipython",
    "version": 2
   },
   "file_extension": ".py",
   "mimetype": "text/x-python",
   "name": "python",
   "nbconvert_exporter": "python",
   "pygments_lexer": "ipython2",
   "version": "2.7.6"
  }
 },
 "nbformat": 4,
 "nbformat_minor": 5
}
