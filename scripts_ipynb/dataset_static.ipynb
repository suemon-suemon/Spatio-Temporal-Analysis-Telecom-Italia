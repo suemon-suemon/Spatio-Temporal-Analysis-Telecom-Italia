{
 "cells": [
  {
   "metadata": {},
   "cell_type": "markdown",
   "source": [
    "| 概念       | 含义                                                                 | 常用检验方法                         | 检验工具/说明 |\n",
    "|------------|--------------------------------------------------------------------|------------------------------------|--------------|\n",
    "| 线性性     | 当前值是过去值的**线性组合**（没有平方、对数、指数等非线性变换）            | RESET检验（Ramsey Test）             | `statsmodels.stats.diagnostic.linear_reset` |\n",
    "| 平稳性     | 均值、方差恒定，自协方差只取决于滞后数h，不随时间变化                         | ADF检验（Augmented Dickey-Fuller Test）<br>KPSS检验 | `statsmodels.tsa.stattools.adfuller`<br>`statsmodels.tsa.stattools.kpss` |\n",
    "| 短期记忆性 | 当前值与近邻观测值（如前几步）有显著相关性，但随时间迅速衰减                  | ACF图（自相关函数）<br>Ljung-Box检验 | `statsmodels.graphics.tsaplots.plot_acf`<br>`statsmodels.stats.diagnostic.acorr_ljungbox` |"
   ],
   "id": "9e3f484f7e639565"
  },
  {
   "cell_type": "code",
   "execution_count": null,
   "id": "initial_id",
   "metadata": {
    "collapsed": true
   },
   "outputs": [],
   "source": [
    ""
   ]
  }
 ],
 "metadata": {
  "kernelspec": {
   "display_name": "Python 3",
   "language": "python",
   "name": "python3"
  },
  "language_info": {
   "codemirror_mode": {
    "name": "ipython",
    "version": 2
   },
   "file_extension": ".py",
   "mimetype": "text/x-python",
   "name": "python",
   "nbconvert_exporter": "python",
   "pygments_lexer": "ipython2",
   "version": "2.7.6"
  }
 },
 "nbformat": 4,
 "nbformat_minor": 5
}
