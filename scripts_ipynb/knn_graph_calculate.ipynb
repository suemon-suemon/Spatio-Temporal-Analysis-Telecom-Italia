{
 "cells": [
  {
   "cell_type": "code",
   "id": "initial_id",
   "metadata": {
    "collapsed": true,
    "ExecuteTime": {
     "end_time": "2025-03-30T13:59:28.392943Z",
     "start_time": "2025-03-30T13:59:26.789072Z"
    }
   },
   "source": [
    "# 做knn图\n",
    "from datasets.Milan import Milan\n",
    "from datasets.MilanFG import MilanFG\n",
    "import networkx as nx\n",
    "from utils.funcs import KNNGraph\n",
    "import numpy as np\n",
    "from matplotlib import pyplot as plt\n",
    "\n",
    "milan = Milan(data_dir='/data/scratch/jiayin',\n",
    "              download_json_name='Milan_telecom_urls.json',\n",
    "              aggr_time= \"10min\",\n",
    "              time_range='all',\n",
    "              tele_column='internet',\n",
    "              load_meta=True)\n",
    "milan.prepare_data()\n",
    "milan.setup()\n",
    "train_len,_,_ = milan.get_default_len()\n",
    "train_data = milan.milan_grid_data[:train_len, :]\n",
    "train_data = train_data.reshape(train_data.shape[0], -1, train_data.shape[2]*train_data.shape[3]) # T, services, N\n",
    "\n",
    "train_data = train_data.transpose(1, 2, 0) # batch_size, N, T\n",
    "adj_knn = KNNGraph(train_data, k_neighbors=2, return_adjacency_matrix=True)\n",
    "np.save(\"/data/scratch/jiayin/AdjKnn2_D15_Milan10Min_Internet.npy\", adj_knn.numpy())\n",
    "\n",
    "# 计算平均度\n",
    "average_degree = np.mean(np.sum(adj_knn.numpy(), axis=1))\n",
    "print(f\"节点平均度: {average_degree}\")\n",
    "\n",
    "# 绘制邻接矩阵的图\n",
    "# plt.figure(figsize=(6, 6))\n",
    "# plt.imshow(adj_knn.numpy(), cmap='viridis', interpolation='none')\n",
    "# plt.title('Adjacency Matrix')\n",
    "# plt.colorbar()\n",
    "# plt.xlabel('Node Index')\n",
    "# plt.ylabel('Node Index')\n",
    "# plt.show()\n",
    "# train_milandataset = milan.train_dataloader()"
   ],
   "outputs": [
    {
     "name": "stdout",
     "output_type": "stream",
     "text": [
      "crawled_feature.csv already exists in /data/scratch/jiayin\n",
      "milan_10min_T_N_5.h5 already exists in /data/scratch/jiayin\n",
      "loaded meta of shape: (4, 20, 20) \n",
      "Loading Milan data...\n",
      "loaded data shape:  (8496, 1, 20, 20)\n",
      "节点平均度: 1.4524999856948853\n"
     ]
    }
   ],
   "execution_count": 15
  }
 ],
 "metadata": {
  "kernelspec": {
   "display_name": "Python 3",
   "language": "python",
   "name": "python3"
  },
  "language_info": {
   "codemirror_mode": {
    "name": "ipython",
    "version": 2
   },
   "file_extension": ".py",
   "mimetype": "text/x-python",
   "name": "python",
   "nbconvert_exporter": "python",
   "pygments_lexer": "ipython2",
   "version": "2.7.6"
  }
 },
 "nbformat": 4,
 "nbformat_minor": 5
}
